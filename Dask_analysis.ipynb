# Bike Sharing Demand Challenge with Dask

##### Camille Chauliac - camille.chauliac@student.ie.edu
##### MBD O-2

This project is about rewriting our Bike Sharing demand assignment of the Python course. 

On Kaggle's website (https://www.kaggle.com/marklvl/bike-sharing-dataset/home), two datasets (hourly and daily data from 2011-2012) are provided with information about the Bike Sharing service in Washington D.C

## 1) Importing libraries and datasets

import dask
import dask.dataframe as dd

from dask_ml.linear_model import LogisticRegression

from dask_ml.preprocessing import DummyEncoder, Categorizer
from dask_ml.linear_model import LinearRegression

from sklearn import linear_model

from sklearn.pipeline import Pipeline, make_pipeline
from sklearn.metrics import r2_score

import pandas as pd
import matplotlib.pyplot as plt
